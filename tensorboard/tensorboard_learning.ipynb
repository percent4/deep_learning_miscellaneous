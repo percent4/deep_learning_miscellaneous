{
 "cells": [
  {
   "cell_type": "code",
   "execution_count": 1,
   "metadata": {
    "ExecuteTime": {
     "end_time": "2023-03-19T07:52:19.399364Z",
     "start_time": "2023-03-19T07:52:16.074825Z"
    }
   },
   "outputs": [],
   "source": [
    "# import modules\n",
    "from tensorboardX import SummaryWriter"
   ]
  },
  {
   "cell_type": "code",
   "execution_count": 2,
   "metadata": {
    "ExecuteTime": {
     "end_time": "2023-03-19T07:52:20.716938Z",
     "start_time": "2023-03-19T07:52:20.683336Z"
    }
   },
   "outputs": [],
   "source": [
    "# add_scalar\n",
    "writer = SummaryWriter('run/scalar')\n",
    "\n",
    "for i in range(10):\n",
    "    writer.add_scalar('指数', 3**i, global_step=i)"
   ]
  },
  {
   "cell_type": "code",
   "execution_count": 3,
   "metadata": {
    "ExecuteTime": {
     "end_time": "2023-03-19T07:52:23.368144Z",
     "start_time": "2023-03-19T07:52:23.004621Z"
    }
   },
   "outputs": [],
   "source": [
    "# add_images\n",
    "import cv2\n",
    "\n",
    "writer = SummaryWriter('run/image')\n",
    "\n",
    "for i in range(1, 4):\n",
    "    writer.add_images('', \n",
    "                      cv2.cvtColor(cv2.imread('./image/image{}.png'.format(i)), cv2.COLOR_BGR2RGB), \n",
    "                      global_step=i, \n",
    "                      dataformats='HWC')"
   ]
  },
  {
   "cell_type": "code",
   "execution_count": 4,
   "metadata": {
    "ExecuteTime": {
     "end_time": "2023-03-19T07:52:24.520221Z",
     "start_time": "2023-03-19T07:52:24.493861Z"
    }
   },
   "outputs": [],
   "source": [
    "# add_histogram\n",
    "import numpy as np\n",
    "\n",
    "writer = SummaryWriter('run/histogram')\n",
    "writer.add_histogram('正态分布中心化', np.random.normal(0, 1, 1000), global_step=1)\n",
    "writer.add_histogram('正态分布中心化', np.random.normal(0, 2, 1000), global_step=50)\n",
    "writer.add_histogram('正态分布中心化', np.random.normal(0, 3, 1000), global_step=100)"
   ]
  },
  {
   "cell_type": "code",
   "execution_count": 5,
   "metadata": {
    "ExecuteTime": {
     "end_time": "2023-03-19T07:52:28.137745Z",
     "start_time": "2023-03-19T07:52:27.276453Z"
    }
   },
   "outputs": [],
   "source": [
    "import torch\n",
    "import torch.nn as nn\n",
    "import torch.nn.functional as F\n",
    "\n",
    "dummy_input = (torch.zeros(1, 3),)\n",
    "writer = SummaryWriter('run/graph')\n",
    "\n",
    "class LinearInLinear(nn.Module):\n",
    "    def __init__(self):\n",
    "        super(LinearInLinear, self).__init__()\n",
    "        self.l = nn.Linear(3, 5)\n",
    "\n",
    "    def forward(self, x):\n",
    "        return self.l(x)\n",
    "\n",
    "writer.add_graph(LinearInLinear(), dummy_input)"
   ]
  },
  {
   "cell_type": "code",
   "execution_count": 6,
   "metadata": {
    "ExecuteTime": {
     "end_time": "2023-03-19T07:52:33.199322Z",
     "start_time": "2023-03-19T07:52:32.961337Z"
    }
   },
   "outputs": [],
   "source": [
    "# add_embedding\n",
    "import torchvision\n",
    "\n",
    "writer = SummaryWriter('run/vector')\n",
    "mnist = torchvision.datasets.MNIST('./', download=False)\n",
    "writer.add_embedding(mnist.data.reshape((-1, 28*28))[:30, :],\n",
    "                     metadata=mnist.targets[:30],\n",
    "                     label_img = mnist.data[:30, :, :].reshape((-1, 1, 28, 28)).float()/255,\n",
    "                     global_step=0\n",
    "                    )"
   ]
  },
  {
   "cell_type": "code",
   "execution_count": null,
   "metadata": {},
   "outputs": [],
   "source": []
  }
 ],
 "metadata": {
  "kernelspec": {
   "display_name": "Python 3",
   "language": "python",
   "name": "python3"
  },
  "language_info": {
   "codemirror_mode": {
    "name": "ipython",
    "version": 3
   },
   "file_extension": ".py",
   "mimetype": "text/x-python",
   "name": "python",
   "nbconvert_exporter": "python",
   "pygments_lexer": "ipython3",
   "version": "3.7.2"
  }
 },
 "nbformat": 4,
 "nbformat_minor": 4
}
