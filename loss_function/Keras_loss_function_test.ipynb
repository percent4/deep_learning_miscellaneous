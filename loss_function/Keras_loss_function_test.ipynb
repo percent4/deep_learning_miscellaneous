{
 "cells": [
  {
   "cell_type": "code",
   "execution_count": 12,
   "metadata": {},
   "outputs": [],
   "source": [
    "# -*- coding: utf-8 -*-\n",
    "# @Time : 2021/4/15 15:17\n",
    "# @Author : Jclian91\n",
    "# @File : keras_cross_entropy_test.ipynb\n",
    "# @Place : Yangpu, Shanghai\n",
    "# import related modules\n",
    "import math\n",
    "from sklearn.metrics import log_loss\n",
    "from sklearn.preprocessing import LabelEncoder\n",
    "import tensorflow as tf\n",
    "from tensorflow.python import math_ops, array_ops\n",
    "from keras import backend as K\n",
    "from keras.losses import (mean_squared_error,\n",
    "                          mean_absolute_error,\n",
    "                          binary_crossentropy,\n",
    "                          categorical_crossentropy,\n",
    "                          sparse_categorical_crossentropy,\n",
    "                          hinge\n",
    "                          )\n",
    "\n",
    "# filter warning message\n",
    "import os\n",
    "os.environ['TF_CPP_MIN_LOG_LEVEL'] = '2'\n",
    "import warnings\n",
    "warnings.filterwarnings('ignore')\n",
    "import tensorflow as tf\n",
    "tf.compat.v1.logging.set_verbosity(tf.compat.v1.logging.ERROR)"
   ]
  },
  {
   "cell_type": "code",
   "execution_count": 3,
   "metadata": {},
   "outputs": [
    {
     "name": "stdout",
     "output_type": "stream",
     "text": [
      "Value of Mean Squared Error is [2.5]\n"
     ]
    }
   ],
   "source": [
    "# mse\n",
    "y_true = tf.constant([[10.0, 7.0]])\n",
    "y_pred = tf.constant([[8.0, 6.0]])\n",
    "loss = mean_squared_error(y_true, y_pred)\n",
    "loss = K.eval(loss)\n",
    "print(f'Value of Mean Squared Error is {loss}')"
   ]
  },
  {
   "cell_type": "code",
   "execution_count": 4,
   "metadata": {},
   "outputs": [
    {
     "name": "stdout",
     "output_type": "stream",
     "text": [
      "Value of Mean Absolute Error is [1.5]\n"
     ]
    }
   ],
   "source": [
    "# mae\n",
    "y_true = tf.constant([[10.0, 7.0]])\n",
    "y_pred = tf.constant([[8.0, 6.0]])\n",
    "loss = mean_absolute_error(y_true, y_pred)\n",
    "loss = K.eval(loss)\n",
    "print(f'Value of Mean Absolute Error is {loss}')"
   ]
  },
  {
   "cell_type": "code",
   "execution_count": 13,
   "metadata": {},
   "outputs": [
    {
     "name": "stdout",
     "output_type": "stream",
     "text": [
      "Compute Binary Cross Entropy in python: [0.10536051565782628, 0.2231435513142097]\n",
      "Compute Binary Cross Entropy in Keras: [0.10536053 0.22314355]\n"
     ]
    }
   ],
   "source": [
    "# Binary Cross Entropy\n",
    "y_true = tf.constant([[1.0], [0.0]])\n",
    "y_pred = tf.constant([[0.9], [0.2]])\n",
    "loss = binary_crossentropy(y_true, y_pred)\n",
    "loss = K.eval(loss)\n",
    "python_loss = [1.0 * (-math.log(0.9)), 1.0 * (-math.log(0.8))]\n",
    "print(f'Compute Binary Cross Entropy in python: {python_loss}')\n",
    "print(f'Compute Binary Cross Entropy in Keras: {loss}')"
   ]
  },
  {
   "cell_type": "code",
   "execution_count": 6,
   "metadata": {},
   "outputs": [
    {
     "name": "stdout",
     "output_type": "stream",
     "text": [
      "compute CCE by python: 0.09458991187728844\n",
      "compute CCE by sklearn: 0.09458991187728844\n",
      "compute CCE by Keras: 0.09458992630243301\n"
     ]
    }
   ],
   "source": [
    "# Categorical Cross Entropy\n",
    "y_true = [[1., 0., 0.], [0., 1., 0.], [0., 0., 1.]]\n",
    "y_pred = [[.9, .05, .05], [.05, .89, .06], [.05, .01, .94]]\n",
    "loss = (-math.log(0.9)-math.log(0.89)-math.log(0.94))/3\n",
    "print(f\"compute CCE by python: {loss}\")\n",
    "loss = log_loss(y_true, y_pred)\n",
    "print(f\"compute CCE by sklearn: {loss}\")\n",
    "loss = K.sum(categorical_crossentropy(tf.constant(y_true), tf.constant(y_pred)))/3\n",
    "loss = K.eval(loss)\n",
    "print(f\"compute CCE by Keras: {loss}\")"
   ]
  },
  {
   "cell_type": "code",
   "execution_count": 7,
   "metadata": {},
   "outputs": [
    {
     "name": "stdout",
     "output_type": "stream",
     "text": [
      "transformed label:  [2 2 0 1]\n",
      "Value of Sparse Categorical Cross Entropy is  [0.22314355 0.6931472  0.6931471  1.2039728 ]\n"
     ]
    }
   ],
   "source": [
    "# Sparse Categorical Cross Entropy\n",
    "t = LabelEncoder()\n",
    "y_pred = tf.constant([[0.1, 0.1, 0.8], [0.1, 0.4, 0.5], [0.5, 0.3, 0.2], [0.6, 0.3, 0.1]])\n",
    "y_true = t.fit_transform(['Rain', 'Rain', 'High Changes of Rain', 'No Rain'])\n",
    "print(\"transformed label: \", y_true)\n",
    "y_true = tf.constant(y_true)\n",
    "loss = sparse_categorical_crossentropy(y_true, y_pred)\n",
    "loss = K.eval(loss)\n",
    "print(f'Value of Sparse Categorical Cross Entropy is ', loss)"
   ]
  },
  {
   "cell_type": "code",
   "execution_count": 8,
   "metadata": {},
   "outputs": [
    {
     "name": "stdout",
     "output_type": "stream",
     "text": [
      "hinge loss:  [0.85 1.  ]\n"
     ]
    }
   ],
   "source": [
    "# hinge loss\n",
    "y_true = tf.constant([[0., 1.], [0., 0.]])\n",
    "y_pred = tf.constant([[0.7, 0.3], [0.4, 0.6]])\n",
    "loss = hinge(y_true, y_pred)\n",
    "a = K.eval(loss)\n",
    "print(\"hinge loss: \", a)"
   ]
  },
  {
   "cell_type": "code",
   "execution_count": 9,
   "metadata": {},
   "outputs": [
    {
     "name": "stdout",
     "output_type": "stream",
     "text": [
      "compute CCE with label smoothing by Custom Loss function in Keras: [0.68343496 0.6741414  0.8095906 ]\n",
      "compute CCE with label smoothing by Custom Loss function in Keras: 0.6834348672370592, 0.6741413520361639, 0.8095905689286783\n",
      "\n"
     ]
    }
   ],
   "source": [
    "# Custom Loss Function: categorical_crossentropy_with_label_smoothing\n",
    "def categorical_crossentropy_with_label_smoothing(y_true, y_pred, label_smoothing=0.1):\n",
    "    num_classes = math_ops.cast(array_ops.shape(y_true)[1], y_pred.dtype)\n",
    "    y_true = y_true * (1.0 - label_smoothing) + (label_smoothing / num_classes)\n",
    "    return categorical_crossentropy(y_true, y_pred)\n",
    "\n",
    "\n",
    "y_true = tf.constant([[1., 0., 0.], [0., 1., 0.], [0., 0., 1.]])\n",
    "y_pred = tf.constant([[.9, .05, .05], [.05, .89, .06], [.05, .01, .94]])\n",
    "loss = categorical_crossentropy_with_label_smoothing(y_true, y_pred, label_smoothing=0.3)\n",
    "loss = K.eval(loss)\n",
    "print(f\"compute CCE with label smoothing by Custom Loss function in Keras: {loss}\")\n",
    "print(\"compute CCE with label smoothing by Custom Loss function in Keras: {}, {}, {}\\n\".format(\n",
    "0.8*(-math.log(0.9))+0.1*(-math.log(0.05))+0.1*(-math.log(0.05)),\n",
    "0.1*(-math.log(0.05))+0.8*(-math.log(0.89))+0.1*(-math.log(0.06)),\n",
    "0.1*(-math.log(0.05))+0.1*(-math.log(0.01))+0.8*(-math.log(0.94))\n",
    "))"
   ]
  },
  {
   "cell_type": "code",
   "execution_count": 10,
   "metadata": {},
   "outputs": [
    {
     "name": "stdout",
     "output_type": "stream",
     "text": [
      "{'Iris-setosa': 0, 'Iris-versicolor': 1, 'Iris-virginica': 2}\n",
      "     0    1    2    3            4  target\n",
      "0  5.1  3.5  1.4  0.2  Iris-setosa       0\n",
      "1  4.9  3.0  1.4  0.2  Iris-setosa       0\n",
      "2  4.7  3.2  1.3  0.2  Iris-setosa       0\n",
      "3  4.6  3.1  1.5  0.2  Iris-setosa       0\n",
      "4  5.0  3.6  1.4  0.2  Iris-setosa       0\n",
      "Epoch 1/100\n",
      "120/120 [==============================] - 0s 2ms/step - loss: 3.4442 - acc: 0.1833\n",
      "Epoch 2/100\n",
      "120/120 [==============================] - 0s 623us/step - loss: 3.4441 - acc: 0.1333\n",
      "Epoch 3/100\n",
      "120/120 [==============================] - 0s 665us/step - loss: 3.4441 - acc: 0.2750\n",
      "Epoch 4/100\n",
      "120/120 [==============================] - 0s 615us/step - loss: 3.4441 - acc: 0.1750\n",
      "Epoch 5/100\n",
      "120/120 [==============================] - 0s 623us/step - loss: 3.4441 - acc: 0.2000\n",
      "Epoch 6/100\n",
      "120/120 [==============================] - 0s 607us/step - loss: 3.4441 - acc: 0.4083\n",
      "Epoch 7/100\n",
      "120/120 [==============================] - 0s 733us/step - loss: 3.4441 - acc: 0.3250\n",
      "Epoch 8/100\n",
      "120/120 [==============================] - 0s 731us/step - loss: 3.4441 - acc: 0.0583\n",
      "Epoch 9/100\n",
      "120/120 [==============================] - 0s 814us/step - loss: 3.4441 - acc: 0.3167ETA: 0s - loss: 3.6012 - acc: 0.2941   \n",
      "Epoch 10/100\n",
      "120/120 [==============================] - 0s 756us/step - loss: 3.4441 - acc: 0.3000\n",
      "Epoch 11/100\n",
      "120/120 [==============================] - 0s 681us/step - loss: 3.4441 - acc: 0.4083\n",
      "Epoch 12/100\n",
      "120/120 [==============================] - 0s 657us/step - loss: 3.4441 - acc: 0.4083\n",
      "Epoch 13/100\n",
      "120/120 [==============================] - 0s 657us/step - loss: 3.4441 - acc: 0.4167\n",
      "Epoch 14/100\n",
      "120/120 [==============================] - 0s 773us/step - loss: 3.4441 - acc: 0.4250\n",
      "Epoch 15/100\n",
      "120/120 [==============================] - 0s 734us/step - loss: 3.4441 - acc: 0.5083\n",
      "Epoch 16/100\n",
      "120/120 [==============================] - 0s 781us/step - loss: 3.4441 - acc: 0.6250\n",
      "Epoch 17/100\n",
      "120/120 [==============================] - 0s 657us/step - loss: 3.4441 - acc: 0.6000\n",
      "Epoch 18/100\n",
      "120/120 [==============================] - 0s 723us/step - loss: 3.4441 - acc: 0.4833\n",
      "Epoch 19/100\n",
      "120/120 [==============================] - 0s 731us/step - loss: 3.4441 - acc: 0.5000\n",
      "Epoch 20/100\n",
      "120/120 [==============================] - 0s 773us/step - loss: 3.4441 - acc: 0.4417\n",
      "Epoch 21/100\n",
      "120/120 [==============================] - 0s 715us/step - loss: 3.4441 - acc: 0.4833\n",
      "Epoch 22/100\n",
      "120/120 [==============================] - 0s 673us/step - loss: 3.4441 - acc: 0.5750\n",
      "Epoch 23/100\n",
      "120/120 [==============================] - 0s 648us/step - loss: 3.4441 - acc: 0.5167\n",
      "Epoch 24/100\n",
      "120/120 [==============================] - 0s 665us/step - loss: 3.4441 - acc: 0.4500\n",
      "Epoch 25/100\n",
      "120/120 [==============================] - 0s 823us/step - loss: 3.4441 - acc: 0.4583\n",
      "Epoch 26/100\n",
      "120/120 [==============================] - 0s 898us/step - loss: 3.4441 - acc: 0.4750\n",
      "Epoch 27/100\n",
      "120/120 [==============================] - 0s 690us/step - loss: 3.4441 - acc: 0.5333\n",
      "Epoch 28/100\n",
      "120/120 [==============================] - 0s 698us/step - loss: 3.4441 - acc: 0.4667\n",
      "Epoch 29/100\n",
      "120/120 [==============================] - 0s 796us/step - loss: 3.4441 - acc: 0.5500\n",
      "Epoch 30/100\n",
      "120/120 [==============================] - 0s 1ms/step - loss: 3.4441 - acc: 0.5333\n",
      "Epoch 31/100\n",
      "120/120 [==============================] - 0s 921us/step - loss: 3.4441 - acc: 0.5250\n",
      "Epoch 32/100\n",
      "120/120 [==============================] - 0s 939us/step - loss: 3.4441 - acc: 0.4833\n",
      "Epoch 33/100\n",
      "120/120 [==============================] - 0s 1ms/step - loss: 3.4441 - acc: 0.4750\n",
      "Epoch 34/100\n",
      "120/120 [==============================] - 0s 1ms/step - loss: 3.4441 - acc: 0.3833\n",
      "Epoch 35/100\n",
      "120/120 [==============================] - 0s 1ms/step - loss: 3.4441 - acc: 0.3833\n",
      "Epoch 36/100\n",
      "120/120 [==============================] - 0s 1ms/step - loss: 3.4441 - acc: 0.4917\n",
      "Epoch 37/100\n",
      "120/120 [==============================] - 0s 1ms/step - loss: 3.4441 - acc: 0.4000\n",
      "Epoch 38/100\n",
      "120/120 [==============================] - 0s 981us/step - loss: 3.4441 - acc: 0.4833\n",
      "Epoch 39/100\n",
      "120/120 [==============================] - 0s 1ms/step - loss: 3.4441 - acc: 0.5083\n",
      "Epoch 40/100\n",
      "120/120 [==============================] - 0s 1ms/step - loss: 3.4441 - acc: 0.5000\n",
      "Epoch 41/100\n",
      "120/120 [==============================] - 0s 981us/step - loss: 3.4441 - acc: 0.5167\n",
      "Epoch 42/100\n",
      "120/120 [==============================] - 0s 1ms/step - loss: 3.4441 - acc: 0.4500\n",
      "Epoch 43/100\n",
      "120/120 [==============================] - 0s 1ms/step - loss: 3.4441 - acc: 0.5167\n",
      "Epoch 44/100\n",
      "120/120 [==============================] - 0s 1ms/step - loss: 3.4441 - acc: 0.4500\n",
      "Epoch 45/100\n",
      "120/120 [==============================] - 0s 1ms/step - loss: 3.4441 - acc: 0.4000\n",
      "Epoch 46/100\n",
      "120/120 [==============================] - 0s 1ms/step - loss: 3.4441 - acc: 0.1917\n",
      "Epoch 47/100\n",
      "120/120 [==============================] - 0s 1ms/step - loss: 3.4441 - acc: 0.0333\n",
      "Epoch 48/100\n",
      "120/120 [==============================] - 0s 1ms/step - loss: 3.4441 - acc: 0.0000e+00\n",
      "Epoch 49/100\n",
      "120/120 [==============================] - 0s 1ms/step - loss: 3.4441 - acc: 0.0250\n",
      "Epoch 50/100\n",
      "120/120 [==============================] - 0s 1ms/step - loss: 3.4441 - acc: 0.1500\n",
      "Epoch 51/100\n",
      "120/120 [==============================] - 0s 981us/step - loss: 3.4441 - acc: 0.0333\n",
      "Epoch 52/100\n",
      "120/120 [==============================] - 0s 1ms/step - loss: 3.4441 - acc: 0.0083\n",
      "Epoch 53/100\n",
      "120/120 [==============================] - 0s 1ms/step - loss: 3.4441 - acc: 0.1500\n",
      "Epoch 54/100\n",
      "120/120 [==============================] - 0s 1ms/step - loss: 3.4441 - acc: 0.4833\n",
      "Epoch 55/100\n",
      "120/120 [==============================] - 0s 1ms/step - loss: 3.4441 - acc: 0.4667\n",
      "Epoch 56/100\n",
      "120/120 [==============================] - 0s 1ms/step - loss: 3.4441 - acc: 0.4583\n",
      "Epoch 57/100\n",
      "120/120 [==============================] - 0s 1ms/step - loss: 3.4441 - acc: 0.3750\n",
      "Epoch 58/100\n",
      "120/120 [==============================] - 0s 1ms/step - loss: 3.4441 - acc: 0.4167\n",
      "Epoch 59/100\n",
      "120/120 [==============================] - 0s 1ms/step - loss: 3.4441 - acc: 0.3917\n",
      "Epoch 60/100\n",
      "120/120 [==============================] - 0s 1ms/step - loss: 3.4441 - acc: 0.3000\n",
      "Epoch 61/100\n",
      "120/120 [==============================] - 0s 1ms/step - loss: 3.4441 - acc: 0.3500\n",
      "Epoch 62/100\n",
      "120/120 [==============================] - 0s 1ms/step - loss: 3.4441 - acc: 0.4833\n",
      "Epoch 63/100\n",
      "120/120 [==============================] - 0s 1ms/step - loss: 3.4441 - acc: 0.4917\n",
      "Epoch 64/100\n",
      "120/120 [==============================] - 0s 1ms/step - loss: 3.4442 - acc: 0.4750\n",
      "Epoch 65/100\n",
      "120/120 [==============================] - 0s 1ms/step - loss: 3.4442 - acc: 0.4917\n",
      "Epoch 66/100\n",
      "120/120 [==============================] - 0s 1ms/step - loss: 3.4441 - acc: 0.4750\n",
      "Epoch 67/100\n",
      "120/120 [==============================] - 0s 1ms/step - loss: 3.4441 - acc: 0.4583\n",
      "Epoch 68/100\n",
      "120/120 [==============================] - 0s 1ms/step - loss: 3.4441 - acc: 0.3083\n",
      "Epoch 69/100\n",
      "120/120 [==============================] - 0s 1ms/step - loss: 3.4441 - acc: 0.4333\n",
      "Epoch 70/100\n",
      "120/120 [==============================] - 0s 1ms/step - loss: 3.4441 - acc: 0.3583\n",
      "Epoch 71/100\n",
      "120/120 [==============================] - 0s 1ms/step - loss: 3.4441 - acc: 0.2333\n",
      "Epoch 72/100\n",
      "120/120 [==============================] - 0s 1ms/step - loss: 3.4442 - acc: 0.0333\n",
      "Epoch 73/100\n",
      "120/120 [==============================] - 0s 1ms/step - loss: 3.4441 - acc: 0.0083\n",
      "Epoch 74/100\n",
      "120/120 [==============================] - 0s 1ms/step - loss: 3.4441 - acc: 0.2333\n",
      "Epoch 75/100\n",
      "120/120 [==============================] - 0s 1ms/step - loss: 3.4441 - acc: 0.4333\n",
      "Epoch 76/100\n",
      "120/120 [==============================] - 0s 1ms/step - loss: 3.4441 - acc: 0.5167\n",
      "Epoch 77/100\n",
      "120/120 [==============================] - 0s 1ms/step - loss: 3.4441 - acc: 0.6083\n",
      "Epoch 78/100\n",
      "120/120 [==============================] - 0s 1ms/step - loss: 3.4441 - acc: 0.5250\n",
      "Epoch 79/100\n",
      "120/120 [==============================] - 0s 1ms/step - loss: 3.4441 - acc: 0.5417\n",
      "Epoch 80/100\n",
      "120/120 [==============================] - 0s 1ms/step - loss: 3.4441 - acc: 0.7500\n",
      "Epoch 81/100\n"
     ]
    },
    {
     "name": "stdout",
     "output_type": "stream",
     "text": [
      "120/120 [==============================] - 0s 1ms/step - loss: 3.4441 - acc: 1.0000\n",
      "Epoch 82/100\n",
      "120/120 [==============================] - 0s 1ms/step - loss: 3.4441 - acc: 1.0000\n",
      "Epoch 83/100\n",
      "120/120 [==============================] - 0s 1ms/step - loss: 3.4441 - acc: 1.0000\n",
      "Epoch 84/100\n",
      "120/120 [==============================] - 0s 1ms/step - loss: 3.4441 - acc: 1.0000\n",
      "Epoch 85/100\n",
      "120/120 [==============================] - 0s 1ms/step - loss: 3.4441 - acc: 1.0000\n",
      "Epoch 86/100\n",
      "120/120 [==============================] - 0s 1ms/step - loss: 3.4441 - acc: 1.0000\n",
      "Epoch 87/100\n",
      "120/120 [==============================] - 0s 1ms/step - loss: 3.4441 - acc: 1.0000\n",
      "Epoch 88/100\n",
      "120/120 [==============================] - 0s 1ms/step - loss: 3.4441 - acc: 1.0000\n",
      "Epoch 89/100\n",
      "120/120 [==============================] - 0s 1ms/step - loss: 3.4441 - acc: 1.0000\n",
      "Epoch 90/100\n",
      "120/120 [==============================] - 0s 1ms/step - loss: 3.4441 - acc: 1.0000\n",
      "Epoch 91/100\n",
      "120/120 [==============================] - 0s 1ms/step - loss: 3.4441 - acc: 1.0000\n",
      "Epoch 92/100\n",
      "120/120 [==============================] - 0s 1ms/step - loss: 3.4441 - acc: 1.0000\n",
      "Epoch 93/100\n",
      "120/120 [==============================] - 0s 1ms/step - loss: 3.4441 - acc: 1.0000\n",
      "Epoch 94/100\n",
      "120/120 [==============================] - 0s 1ms/step - loss: 3.4441 - acc: 1.0000\n",
      "Epoch 95/100\n",
      "120/120 [==============================] - 0s 1ms/step - loss: 3.4441 - acc: 1.0000\n",
      "Epoch 96/100\n",
      "120/120 [==============================] - 0s 1ms/step - loss: 3.4441 - acc: 1.0000\n",
      "Epoch 97/100\n",
      "120/120 [==============================] - 0s 1ms/step - loss: 3.4441 - acc: 1.0000\n",
      "Epoch 98/100\n",
      "120/120 [==============================] - 0s 1ms/step - loss: 3.4441 - acc: 1.0000\n",
      "Epoch 99/100\n",
      "120/120 [==============================] - 0s 1ms/step - loss: 3.4441 - acc: 1.0000\n",
      "Epoch 100/100\n",
      "120/120 [==============================] - 0s 1ms/step - loss: 3.4441 - acc: 1.0000\n",
      "Evaluation on test data: loss = 2.702586 accuracy = 100.00% \n",
      "\n"
     ]
    }
   ],
   "source": [
    "# use Custom Loss Function: categorical_crossentropy_with_label_smoothing for classification model in Keras\n",
    "import keras as K\n",
    "import pandas as pd\n",
    "# 1. 读取数据\n",
    "df = pd.read_csv(\"iris.csv\", header=None)\n",
    "targets = df[4].unique()\n",
    "targets_dict = dict(zip(targets, range(len(targets))))\n",
    "df[\"target\"] = df[4].apply(lambda x: targets_dict[x])\n",
    "print(targets_dict)\n",
    "print(df.head())\n",
    "train_df = df.sample(frac=0.8)\n",
    "test_df = df.drop(train_df.index)\n",
    "\n",
    "# 2. 定义模型\n",
    "init = K.initializers.glorot_uniform(seed=1)\n",
    "simple_adam = K.optimizers.Adam()\n",
    "model = K.models.Sequential()\n",
    "model.add(K.layers.Dense(units=5, input_dim=4, kernel_initializer=init, activation='relu'))\n",
    "model.add(K.layers.Dense(units=6, kernel_initializer=init, activation='relu'))\n",
    "model.add(K.layers.Dense(units=3, kernel_initializer=init, activation='softmax'))\n",
    "model.compile(loss=categorical_crossentropy_with_label_smoothing, optimizer=simple_adam, metrics=['accuracy'])\n",
    "# 3. 模型训练\n",
    "train_x = train_df[[0, 1, 2, 3]]\n",
    "train_y = train_df[\"target\"]\n",
    "test_x = test_df[[0, 1, 2, 3]]\n",
    "test_y = test_df[\"target\"]\n",
    "h = model.fit(train_x, train_y, batch_size=1, epochs=100, shuffle=True, verbose=1)\n",
    "# 4. 评估模型\n",
    "eval = model.evaluate(test_x, test_y, verbose=0)\n",
    "print(\"Evaluation on test data: loss = %0.6f accuracy = %0.2f%% \\n\" % (eval[0], eval[1] * 100))"
   ]
  },
  {
   "cell_type": "code",
   "execution_count": null,
   "metadata": {},
   "outputs": [],
   "source": []
  }
 ],
 "metadata": {
  "kernelspec": {
   "display_name": "Python 3",
   "language": "python",
   "name": "python3"
  },
  "language_info": {
   "codemirror_mode": {
    "name": "ipython",
    "version": 3
   },
   "file_extension": ".py",
   "mimetype": "text/x-python",
   "name": "python",
   "nbconvert_exporter": "python",
   "pygments_lexer": "ipython3",
   "version": "3.7.2"
  }
 },
 "nbformat": 4,
 "nbformat_minor": 4
}
